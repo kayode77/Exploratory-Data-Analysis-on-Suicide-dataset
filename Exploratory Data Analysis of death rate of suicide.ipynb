{
 "cells": [
  {
   "cell_type": "markdown",
   "id": "5623c688",
   "metadata": {},
   "source": [
    "##### Death_rates_for_suicide__by_sex__race__Hispanic_origin__and_age__United_States dataset."
   ]
  },
  {
   "cell_type": "code",
   "execution_count": 1,
   "id": "9097b76e",
   "metadata": {},
   "outputs": [],
   "source": [
    "import pandas as pd\n",
    "import numpy as np\n",
    "import seaborn as sns\n",
    "sns.set()\n",
    "import matplotlib.pyplot as plt\n",
    "plt.style.use(\"ggplot\")\n",
    "pd.set_option(\"max_columns\",50)"
   ]
  },
  {
   "cell_type": "code",
   "execution_count": 2,
   "id": "ce56ee5c",
   "metadata": {},
   "outputs": [
    {
     "data": {
      "text/html": [
       "<div>\n",
       "<style scoped>\n",
       "    .dataframe tbody tr th:only-of-type {\n",
       "        vertical-align: middle;\n",
       "    }\n",
       "\n",
       "    .dataframe tbody tr th {\n",
       "        vertical-align: top;\n",
       "    }\n",
       "\n",
       "    .dataframe thead th {\n",
       "        text-align: right;\n",
       "    }\n",
       "</style>\n",
       "<table border=\"1\" class=\"dataframe\">\n",
       "  <thead>\n",
       "    <tr style=\"text-align: right;\">\n",
       "      <th></th>\n",
       "      <th>INDICATOR</th>\n",
       "      <th>UNIT</th>\n",
       "      <th>UNIT_NUM</th>\n",
       "      <th>STUB_NAME</th>\n",
       "      <th>STUB_NAME_NUM</th>\n",
       "      <th>STUB_LABEL</th>\n",
       "      <th>STUB_LABEL_NUM</th>\n",
       "      <th>YEAR</th>\n",
       "      <th>YEAR_NUM</th>\n",
       "      <th>AGE</th>\n",
       "      <th>AGE_NUM</th>\n",
       "      <th>ESTIMATE</th>\n",
       "      <th>FLAG</th>\n",
       "    </tr>\n",
       "  </thead>\n",
       "  <tbody>\n",
       "    <tr>\n",
       "      <th>0</th>\n",
       "      <td>Death rates for suicide</td>\n",
       "      <td>Deaths per 100,000 resident population, age-ad...</td>\n",
       "      <td>1</td>\n",
       "      <td>Total</td>\n",
       "      <td>0</td>\n",
       "      <td>All persons</td>\n",
       "      <td>0.0</td>\n",
       "      <td>1950</td>\n",
       "      <td>1</td>\n",
       "      <td>All ages</td>\n",
       "      <td>0.0</td>\n",
       "      <td>13.2</td>\n",
       "      <td>NaN</td>\n",
       "    </tr>\n",
       "    <tr>\n",
       "      <th>1</th>\n",
       "      <td>Death rates for suicide</td>\n",
       "      <td>Deaths per 100,000 resident population, age-ad...</td>\n",
       "      <td>1</td>\n",
       "      <td>Total</td>\n",
       "      <td>0</td>\n",
       "      <td>All persons</td>\n",
       "      <td>0.0</td>\n",
       "      <td>1960</td>\n",
       "      <td>2</td>\n",
       "      <td>All ages</td>\n",
       "      <td>0.0</td>\n",
       "      <td>12.5</td>\n",
       "      <td>NaN</td>\n",
       "    </tr>\n",
       "    <tr>\n",
       "      <th>2</th>\n",
       "      <td>Death rates for suicide</td>\n",
       "      <td>Deaths per 100,000 resident population, age-ad...</td>\n",
       "      <td>1</td>\n",
       "      <td>Total</td>\n",
       "      <td>0</td>\n",
       "      <td>All persons</td>\n",
       "      <td>0.0</td>\n",
       "      <td>1970</td>\n",
       "      <td>3</td>\n",
       "      <td>All ages</td>\n",
       "      <td>0.0</td>\n",
       "      <td>13.1</td>\n",
       "      <td>NaN</td>\n",
       "    </tr>\n",
       "    <tr>\n",
       "      <th>3</th>\n",
       "      <td>Death rates for suicide</td>\n",
       "      <td>Deaths per 100,000 resident population, age-ad...</td>\n",
       "      <td>1</td>\n",
       "      <td>Total</td>\n",
       "      <td>0</td>\n",
       "      <td>All persons</td>\n",
       "      <td>0.0</td>\n",
       "      <td>1980</td>\n",
       "      <td>4</td>\n",
       "      <td>All ages</td>\n",
       "      <td>0.0</td>\n",
       "      <td>12.2</td>\n",
       "      <td>NaN</td>\n",
       "    </tr>\n",
       "    <tr>\n",
       "      <th>4</th>\n",
       "      <td>Death rates for suicide</td>\n",
       "      <td>Deaths per 100,000 resident population, age-ad...</td>\n",
       "      <td>1</td>\n",
       "      <td>Total</td>\n",
       "      <td>0</td>\n",
       "      <td>All persons</td>\n",
       "      <td>0.0</td>\n",
       "      <td>1981</td>\n",
       "      <td>5</td>\n",
       "      <td>All ages</td>\n",
       "      <td>0.0</td>\n",
       "      <td>12.3</td>\n",
       "      <td>NaN</td>\n",
       "    </tr>\n",
       "  </tbody>\n",
       "</table>\n",
       "</div>"
      ],
      "text/plain": [
       "                 INDICATOR                                               UNIT  \\\n",
       "0  Death rates for suicide  Deaths per 100,000 resident population, age-ad...   \n",
       "1  Death rates for suicide  Deaths per 100,000 resident population, age-ad...   \n",
       "2  Death rates for suicide  Deaths per 100,000 resident population, age-ad...   \n",
       "3  Death rates for suicide  Deaths per 100,000 resident population, age-ad...   \n",
       "4  Death rates for suicide  Deaths per 100,000 resident population, age-ad...   \n",
       "\n",
       "   UNIT_NUM STUB_NAME  STUB_NAME_NUM   STUB_LABEL  STUB_LABEL_NUM  YEAR  \\\n",
       "0         1     Total              0  All persons             0.0  1950   \n",
       "1         1     Total              0  All persons             0.0  1960   \n",
       "2         1     Total              0  All persons             0.0  1970   \n",
       "3         1     Total              0  All persons             0.0  1980   \n",
       "4         1     Total              0  All persons             0.0  1981   \n",
       "\n",
       "   YEAR_NUM       AGE  AGE_NUM  ESTIMATE FLAG  \n",
       "0         1  All ages      0.0      13.2  NaN  \n",
       "1         2  All ages      0.0      12.5  NaN  \n",
       "2         3  All ages      0.0      13.1  NaN  \n",
       "3         4  All ages      0.0      12.2  NaN  \n",
       "4         5  All ages      0.0      12.3  NaN  "
      ]
     },
     "execution_count": 2,
     "metadata": {},
     "output_type": "execute_result"
    }
   ],
   "source": [
    "df =pd.read_csv('Death_rates_for_suicide__by_sex__race__Hispanic_origin__and_age__United_States.csv')\n",
    "df.head()"
   ]
  },
  {
   "cell_type": "code",
   "execution_count": 3,
   "id": "f40a3558",
   "metadata": {},
   "outputs": [
    {
     "data": {
      "text/plain": [
       "(6390, 13)"
      ]
     },
     "execution_count": 3,
     "metadata": {},
     "output_type": "execute_result"
    }
   ],
   "source": [
    "df.shape"
   ]
  },
  {
   "cell_type": "code",
   "execution_count": 4,
   "id": "6d822c0f",
   "metadata": {},
   "outputs": [
    {
     "name": "stdout",
     "output_type": "stream",
     "text": [
      "<class 'pandas.core.frame.DataFrame'>\n",
      "RangeIndex: 6390 entries, 0 to 6389\n",
      "Data columns (total 13 columns):\n",
      " #   Column          Non-Null Count  Dtype  \n",
      "---  ------          --------------  -----  \n",
      " 0   INDICATOR       6390 non-null   object \n",
      " 1   UNIT            6390 non-null   object \n",
      " 2   UNIT_NUM        6390 non-null   int64  \n",
      " 3   STUB_NAME       6390 non-null   object \n",
      " 4   STUB_NAME_NUM   6390 non-null   int64  \n",
      " 5   STUB_LABEL      6390 non-null   object \n",
      " 6   STUB_LABEL_NUM  6390 non-null   float64\n",
      " 7   YEAR            6390 non-null   int64  \n",
      " 8   YEAR_NUM        6390 non-null   int64  \n",
      " 9   AGE             6390 non-null   object \n",
      " 10  AGE_NUM         6390 non-null   float64\n",
      " 11  ESTIMATE        5484 non-null   float64\n",
      " 12  FLAG            906 non-null    object \n",
      "dtypes: float64(3), int64(4), object(6)\n",
      "memory usage: 649.1+ KB\n"
     ]
    }
   ],
   "source": [
    "df.info()"
   ]
  },
  {
   "cell_type": "code",
   "execution_count": 5,
   "id": "30eb8ad3",
   "metadata": {},
   "outputs": [
    {
     "data": {
      "text/html": [
       "<div>\n",
       "<style scoped>\n",
       "    .dataframe tbody tr th:only-of-type {\n",
       "        vertical-align: middle;\n",
       "    }\n",
       "\n",
       "    .dataframe tbody tr th {\n",
       "        vertical-align: top;\n",
       "    }\n",
       "\n",
       "    .dataframe thead th {\n",
       "        text-align: right;\n",
       "    }\n",
       "</style>\n",
       "<table border=\"1\" class=\"dataframe\">\n",
       "  <thead>\n",
       "    <tr style=\"text-align: right;\">\n",
       "      <th></th>\n",
       "      <th>UNIT_NUM</th>\n",
       "      <th>STUB_NAME_NUM</th>\n",
       "      <th>STUB_LABEL_NUM</th>\n",
       "      <th>YEAR</th>\n",
       "      <th>YEAR_NUM</th>\n",
       "      <th>AGE_NUM</th>\n",
       "      <th>ESTIMATE</th>\n",
       "    </tr>\n",
       "  </thead>\n",
       "  <tbody>\n",
       "    <tr>\n",
       "      <th>count</th>\n",
       "      <td>6390.000000</td>\n",
       "      <td>6390.000000</td>\n",
       "      <td>6390.000000</td>\n",
       "      <td>6390.000000</td>\n",
       "      <td>6390.000000</td>\n",
       "      <td>6390.000000</td>\n",
       "      <td>5484.000000</td>\n",
       "    </tr>\n",
       "    <tr>\n",
       "      <th>mean</th>\n",
       "      <td>1.872926</td>\n",
       "      <td>4.621909</td>\n",
       "      <td>4.686775</td>\n",
       "      <td>1997.525822</td>\n",
       "      <td>22.692019</td>\n",
       "      <td>2.712207</td>\n",
       "      <td>13.709810</td>\n",
       "    </tr>\n",
       "    <tr>\n",
       "      <th>std</th>\n",
       "      <td>0.333081</td>\n",
       "      <td>2.031777</td>\n",
       "      <td>1.829624</td>\n",
       "      <td>14.937451</td>\n",
       "      <td>12.286033</td>\n",
       "      <td>1.932280</td>\n",
       "      <td>11.531805</td>\n",
       "    </tr>\n",
       "    <tr>\n",
       "      <th>min</th>\n",
       "      <td>1.000000</td>\n",
       "      <td>0.000000</td>\n",
       "      <td>0.000000</td>\n",
       "      <td>1950.000000</td>\n",
       "      <td>1.000000</td>\n",
       "      <td>0.000000</td>\n",
       "      <td>0.300000</td>\n",
       "    </tr>\n",
       "    <tr>\n",
       "      <th>25%</th>\n",
       "      <td>2.000000</td>\n",
       "      <td>3.000000</td>\n",
       "      <td>3.230000</td>\n",
       "      <td>1988.000000</td>\n",
       "      <td>12.000000</td>\n",
       "      <td>0.000000</td>\n",
       "      <td>5.000000</td>\n",
       "    </tr>\n",
       "    <tr>\n",
       "      <th>50%</th>\n",
       "      <td>2.000000</td>\n",
       "      <td>5.000000</td>\n",
       "      <td>5.125100</td>\n",
       "      <td>1999.000000</td>\n",
       "      <td>23.000000</td>\n",
       "      <td>3.000000</td>\n",
       "      <td>10.500000</td>\n",
       "    </tr>\n",
       "    <tr>\n",
       "      <th>75%</th>\n",
       "      <td>2.000000</td>\n",
       "      <td>6.000000</td>\n",
       "      <td>6.153000</td>\n",
       "      <td>2009.000000</td>\n",
       "      <td>33.000000</td>\n",
       "      <td>4.100000</td>\n",
       "      <td>19.500000</td>\n",
       "    </tr>\n",
       "    <tr>\n",
       "      <th>max</th>\n",
       "      <td>2.000000</td>\n",
       "      <td>11.000000</td>\n",
       "      <td>7.235000</td>\n",
       "      <td>2018.000000</td>\n",
       "      <td>42.000000</td>\n",
       "      <td>6.000000</td>\n",
       "      <td>74.800000</td>\n",
       "    </tr>\n",
       "  </tbody>\n",
       "</table>\n",
       "</div>"
      ],
      "text/plain": [
       "          UNIT_NUM  STUB_NAME_NUM  STUB_LABEL_NUM         YEAR     YEAR_NUM  \\\n",
       "count  6390.000000    6390.000000     6390.000000  6390.000000  6390.000000   \n",
       "mean      1.872926       4.621909        4.686775  1997.525822    22.692019   \n",
       "std       0.333081       2.031777        1.829624    14.937451    12.286033   \n",
       "min       1.000000       0.000000        0.000000  1950.000000     1.000000   \n",
       "25%       2.000000       3.000000        3.230000  1988.000000    12.000000   \n",
       "50%       2.000000       5.000000        5.125100  1999.000000    23.000000   \n",
       "75%       2.000000       6.000000        6.153000  2009.000000    33.000000   \n",
       "max       2.000000      11.000000        7.235000  2018.000000    42.000000   \n",
       "\n",
       "           AGE_NUM     ESTIMATE  \n",
       "count  6390.000000  5484.000000  \n",
       "mean      2.712207    13.709810  \n",
       "std       1.932280    11.531805  \n",
       "min       0.000000     0.300000  \n",
       "25%       0.000000     5.000000  \n",
       "50%       3.000000    10.500000  \n",
       "75%       4.100000    19.500000  \n",
       "max       6.000000    74.800000  "
      ]
     },
     "execution_count": 5,
     "metadata": {},
     "output_type": "execute_result"
    }
   ],
   "source": [
    "df.describe()"
   ]
  },
  {
   "cell_type": "markdown",
   "id": "c220c4dd",
   "metadata": {},
   "source": [
    "### *Description of the object type*\n",
    "\n",
    "The description below gives the top most group with the highest suicide by sex,race,age and Hispanic origin."
   ]
  },
  {
   "cell_type": "code",
   "execution_count": 6,
   "id": "fda95223",
   "metadata": {},
   "outputs": [
    {
     "data": {
      "text/html": [
       "<div>\n",
       "<style scoped>\n",
       "    .dataframe tbody tr th:only-of-type {\n",
       "        vertical-align: middle;\n",
       "    }\n",
       "\n",
       "    .dataframe tbody tr th {\n",
       "        vertical-align: top;\n",
       "    }\n",
       "\n",
       "    .dataframe thead th {\n",
       "        text-align: right;\n",
       "    }\n",
       "</style>\n",
       "<table border=\"1\" class=\"dataframe\">\n",
       "  <thead>\n",
       "    <tr style=\"text-align: right;\">\n",
       "      <th></th>\n",
       "      <th>INDICATOR</th>\n",
       "      <th>UNIT</th>\n",
       "      <th>STUB_NAME</th>\n",
       "      <th>STUB_LABEL</th>\n",
       "      <th>AGE</th>\n",
       "      <th>FLAG</th>\n",
       "    </tr>\n",
       "  </thead>\n",
       "  <tbody>\n",
       "    <tr>\n",
       "      <th>count</th>\n",
       "      <td>6390</td>\n",
       "      <td>6390</td>\n",
       "      <td>6390</td>\n",
       "      <td>6390</td>\n",
       "      <td>6390</td>\n",
       "      <td>906</td>\n",
       "    </tr>\n",
       "    <tr>\n",
       "      <th>unique</th>\n",
       "      <td>1</td>\n",
       "      <td>2</td>\n",
       "      <td>12</td>\n",
       "      <td>161</td>\n",
       "      <td>15</td>\n",
       "      <td>2</td>\n",
       "    </tr>\n",
       "    <tr>\n",
       "      <th>top</th>\n",
       "      <td>Death rates for suicide</td>\n",
       "      <td>Deaths per 100,000 resident population, crude</td>\n",
       "      <td>Sex, age and race</td>\n",
       "      <td>Female: Black or African American</td>\n",
       "      <td>All ages</td>\n",
       "      <td>...</td>\n",
       "    </tr>\n",
       "    <tr>\n",
       "      <th>freq</th>\n",
       "      <td>6390</td>\n",
       "      <td>5578</td>\n",
       "      <td>1596</td>\n",
       "      <td>87</td>\n",
       "      <td>1624</td>\n",
       "      <td>645</td>\n",
       "    </tr>\n",
       "  </tbody>\n",
       "</table>\n",
       "</div>"
      ],
      "text/plain": [
       "                      INDICATOR  \\\n",
       "count                      6390   \n",
       "unique                        1   \n",
       "top     Death rates for suicide   \n",
       "freq                       6390   \n",
       "\n",
       "                                                 UNIT          STUB_NAME  \\\n",
       "count                                            6390               6390   \n",
       "unique                                              2                 12   \n",
       "top     Deaths per 100,000 resident population, crude  Sex, age and race   \n",
       "freq                                             5578               1596   \n",
       "\n",
       "                               STUB_LABEL       AGE FLAG  \n",
       "count                                6390      6390  906  \n",
       "unique                                161        15    2  \n",
       "top     Female: Black or African American  All ages  ...  \n",
       "freq                                   87      1624  645  "
      ]
     },
     "execution_count": 6,
     "metadata": {},
     "output_type": "execute_result"
    }
   ],
   "source": [
    "df.describe(include='O')"
   ]
  },
  {
   "cell_type": "code",
   "execution_count": 7,
   "id": "9b35f82b",
   "metadata": {},
   "outputs": [
    {
     "data": {
      "text/plain": [
       "(6390, 13)"
      ]
     },
     "execution_count": 7,
     "metadata": {},
     "output_type": "execute_result"
    }
   ],
   "source": [
    "# drops all duplicates\n",
    "df.drop_duplicates(keep=False).shape"
   ]
  },
  {
   "cell_type": "code",
   "execution_count": 8,
   "id": "14de3e10",
   "metadata": {},
   "outputs": [
    {
     "data": {
      "text/plain": [
       "INDICATOR            0\n",
       "UNIT                 0\n",
       "UNIT_NUM             0\n",
       "STUB_NAME            0\n",
       "STUB_NAME_NUM        0\n",
       "STUB_LABEL           0\n",
       "STUB_LABEL_NUM       0\n",
       "YEAR                 0\n",
       "YEAR_NUM             0\n",
       "AGE                  0\n",
       "AGE_NUM              0\n",
       "ESTIMATE           906\n",
       "FLAG              5484\n",
       "dtype: int64"
      ]
     },
     "execution_count": 8,
     "metadata": {},
     "output_type": "execute_result"
    }
   ],
   "source": [
    "df.isna().sum()"
   ]
  },
  {
   "cell_type": "code",
   "execution_count": 9,
   "id": "a897be34",
   "metadata": {},
   "outputs": [
    {
     "data": {
      "text/plain": [
       "Index(['INDICATOR', 'UNIT', 'UNIT_NUM', 'STUB_NAME', 'STUB_NAME_NUM',\n",
       "       'STUB_LABEL', 'STUB_LABEL_NUM', 'YEAR', 'YEAR_NUM', 'AGE', 'AGE_NUM',\n",
       "       'ESTIMATE', 'FLAG'],\n",
       "      dtype='object')"
      ]
     },
     "execution_count": 9,
     "metadata": {},
     "output_type": "execute_result"
    }
   ],
   "source": [
    "df.columns"
   ]
  },
  {
   "cell_type": "code",
   "execution_count": 10,
   "id": "c3acc12d",
   "metadata": {},
   "outputs": [
    {
     "data": {
      "text/plain": [
       "array([nan, '...', '*'], dtype=object)"
      ]
     },
     "execution_count": 10,
     "metadata": {},
     "output_type": "execute_result"
    }
   ],
   "source": [
    "# Looking for some information in the column FLAG\n",
    "df.FLAG.unique()"
   ]
  },
  {
   "cell_type": "code",
   "execution_count": 11,
   "id": "7258eab3",
   "metadata": {},
   "outputs": [],
   "source": [
    "# dropping multiple columns\n",
    "dfNEW=df[[#'INDICATOR', \n",
    "    'UNIT', \n",
    "    #'UNIT_NUM', \n",
    "    'STUB_NAME', \n",
    "    # 'STUB_NAME_NUM',\n",
    "       'STUB_LABEL', \n",
    "    #'STUB_LABEL_NUM', \n",
    "    'YEAR', \n",
    "    #'YEAR_NUM', \n",
    "    'AGE', \n",
    "    #'AGE_NUM',\n",
    "       'ESTIMATE', \n",
    "    #'FLAG'\n",
    "]].copy()"
   ]
  },
  {
   "cell_type": "code",
   "execution_count": 12,
   "id": "a828bb0a",
   "metadata": {},
   "outputs": [
    {
     "data": {
      "text/plain": [
       "(6390, 6)"
      ]
     },
     "execution_count": 12,
     "metadata": {},
     "output_type": "execute_result"
    }
   ],
   "source": [
    "dfNEW.shape"
   ]
  },
  {
   "cell_type": "code",
   "execution_count": 13,
   "id": "38bc24bc",
   "metadata": {},
   "outputs": [],
   "source": [
    "# remove all the rows that contain a missing value\n",
    "dfNEW=dfNEW.dropna()"
   ]
  },
  {
   "cell_type": "code",
   "execution_count": 14,
   "id": "7eac82ac",
   "metadata": {},
   "outputs": [
    {
     "data": {
      "text/plain": [
       "(5484, 6)"
      ]
     },
     "execution_count": 14,
     "metadata": {},
     "output_type": "execute_result"
    }
   ],
   "source": [
    "dfNEW.shape"
   ]
  },
  {
   "cell_type": "code",
   "execution_count": 15,
   "id": "5b0575eb",
   "metadata": {},
   "outputs": [
    {
     "data": {
      "text/html": [
       "<div>\n",
       "<style scoped>\n",
       "    .dataframe tbody tr th:only-of-type {\n",
       "        vertical-align: middle;\n",
       "    }\n",
       "\n",
       "    .dataframe tbody tr th {\n",
       "        vertical-align: top;\n",
       "    }\n",
       "\n",
       "    .dataframe thead th {\n",
       "        text-align: right;\n",
       "    }\n",
       "</style>\n",
       "<table border=\"1\" class=\"dataframe\">\n",
       "  <thead>\n",
       "    <tr style=\"text-align: right;\">\n",
       "      <th></th>\n",
       "      <th>UNIT</th>\n",
       "      <th>STUB_NAME</th>\n",
       "      <th>STUB_LABEL</th>\n",
       "      <th>AGE</th>\n",
       "    </tr>\n",
       "  </thead>\n",
       "  <tbody>\n",
       "    <tr>\n",
       "      <th>count</th>\n",
       "      <td>5484</td>\n",
       "      <td>5484</td>\n",
       "      <td>5484</td>\n",
       "      <td>5484</td>\n",
       "    </tr>\n",
       "    <tr>\n",
       "      <th>unique</th>\n",
       "      <td>2</td>\n",
       "      <td>12</td>\n",
       "      <td>150</td>\n",
       "      <td>15</td>\n",
       "    </tr>\n",
       "    <tr>\n",
       "      <th>top</th>\n",
       "      <td>Deaths per 100,000 resident population, crude</td>\n",
       "      <td>Sex, age and race</td>\n",
       "      <td>Female: Black or African American</td>\n",
       "      <td>All ages</td>\n",
       "    </tr>\n",
       "    <tr>\n",
       "      <th>freq</th>\n",
       "      <td>4761</td>\n",
       "      <td>1282</td>\n",
       "      <td>87</td>\n",
       "      <td>1422</td>\n",
       "    </tr>\n",
       "  </tbody>\n",
       "</table>\n",
       "</div>"
      ],
      "text/plain": [
       "                                                 UNIT          STUB_NAME  \\\n",
       "count                                            5484               5484   \n",
       "unique                                              2                 12   \n",
       "top     Deaths per 100,000 resident population, crude  Sex, age and race   \n",
       "freq                                             4761               1282   \n",
       "\n",
       "                               STUB_LABEL       AGE  \n",
       "count                                5484      5484  \n",
       "unique                                150        15  \n",
       "top     Female: Black or African American  All ages  \n",
       "freq                                   87      1422  "
      ]
     },
     "execution_count": 15,
     "metadata": {},
     "output_type": "execute_result"
    }
   ],
   "source": [
    "dfNEW.describe(include='O')"
   ]
  },
  {
   "cell_type": "code",
   "execution_count": 16,
   "id": "866312a3",
   "metadata": {},
   "outputs": [
    {
     "data": {
      "text/plain": [
       "Index(['UNIT', 'STUB_NAME', 'STUB_LABEL', 'YEAR', 'AGE', 'ESTIMATE'], dtype='object')"
      ]
     },
     "execution_count": 16,
     "metadata": {},
     "output_type": "execute_result"
    }
   ],
   "source": [
    "dfNEW.columns"
   ]
  },
  {
   "cell_type": "code",
   "execution_count": 17,
   "id": "8ebfdc08",
   "metadata": {},
   "outputs": [
    {
     "data": {
      "text/plain": [
       "array(['Total', 'Sex', 'Sex and race', 'Sex and race and Hispanic origin',\n",
       "       'Sex and race (Single race)',\n",
       "       'Sex and race and Hispanic origin (Single race)', 'Age',\n",
       "       'Sex and age', 'Sex, age and race',\n",
       "       'Sex, age and race and Hispanic origin',\n",
       "       'Sex, age and race (Single race)',\n",
       "       'Sex, age and race and Hispanic origin (Single race)'],\n",
       "      dtype=object)"
      ]
     },
     "execution_count": 17,
     "metadata": {},
     "output_type": "execute_result"
    }
   ],
   "source": [
    "dfNEW.STUB_NAME.unique()"
   ]
  },
  {
   "cell_type": "markdown",
   "id": "cd60c58e",
   "metadata": {},
   "source": [
    "### *The Analysis below gives the highest Estimate of rate of suicide, but that may not be the group with the highest rate of suicide since it is an Estimate due to low occurance.* \n",
    "**I believe the highest or lowest death rate depends on the number of occurances and may not be on estimation.**\n"
   ]
  },
  {
   "cell_type": "code",
   "execution_count": 18,
   "id": "6d08db7c",
   "metadata": {},
   "outputs": [
    {
     "data": {
      "text/html": [
       "<div>\n",
       "<style scoped>\n",
       "    .dataframe tbody tr th:only-of-type {\n",
       "        vertical-align: middle;\n",
       "    }\n",
       "\n",
       "    .dataframe tbody tr th {\n",
       "        vertical-align: top;\n",
       "    }\n",
       "\n",
       "    .dataframe thead th {\n",
       "        text-align: right;\n",
       "    }\n",
       "</style>\n",
       "<table border=\"1\" class=\"dataframe\">\n",
       "  <thead>\n",
       "    <tr style=\"text-align: right;\">\n",
       "      <th></th>\n",
       "      <th>SUM_ESTIMATE</th>\n",
       "    </tr>\n",
       "    <tr>\n",
       "      <th>STUB_LABEL</th>\n",
       "      <th></th>\n",
       "    </tr>\n",
       "  </thead>\n",
       "  <tbody>\n",
       "    <tr>\n",
       "      <th>Male: White: 85 years and over</th>\n",
       "      <td>2514.5</td>\n",
       "    </tr>\n",
       "    <tr>\n",
       "      <th>Male: 85 years and over</th>\n",
       "      <td>2292.4</td>\n",
       "    </tr>\n",
       "    <tr>\n",
       "      <th>Male: White: 75-84 years</th>\n",
       "      <td>1956.4</td>\n",
       "    </tr>\n",
       "    <tr>\n",
       "      <th>Male: White</th>\n",
       "      <td>1856.2</td>\n",
       "    </tr>\n",
       "    <tr>\n",
       "      <th>Male: 75-84 years</th>\n",
       "      <td>1787.1</td>\n",
       "    </tr>\n",
       "    <tr>\n",
       "      <th>...</th>\n",
       "      <td>...</td>\n",
       "    </tr>\n",
       "    <tr>\n",
       "      <th>Female: Not Hispanic or Latino: Asian</th>\n",
       "      <td>7.8</td>\n",
       "    </tr>\n",
       "    <tr>\n",
       "      <th>Female: Not Hispanic or Latino: Asian: 15-24 years</th>\n",
       "      <td>6.9</td>\n",
       "    </tr>\n",
       "    <tr>\n",
       "      <th>Female: Not Hispanic or Latino: Asian: 45-64 years</th>\n",
       "      <td>4.8</td>\n",
       "    </tr>\n",
       "    <tr>\n",
       "      <th>Female: Not Hispanic or Latino: Asian: 25-44 years</th>\n",
       "      <td>4.2</td>\n",
       "    </tr>\n",
       "    <tr>\n",
       "      <th>Female: Not Hispanic or Latino: Asian: 65 years and over</th>\n",
       "      <td>3.6</td>\n",
       "    </tr>\n",
       "  </tbody>\n",
       "</table>\n",
       "<p>150 rows × 1 columns</p>\n",
       "</div>"
      ],
      "text/plain": [
       "                                                    SUM_ESTIMATE\n",
       "STUB_LABEL                                                      \n",
       "Male: White: 85 years and over                            2514.5\n",
       "Male: 85 years and over                                   2292.4\n",
       "Male: White: 75-84 years                                  1956.4\n",
       "Male: White                                               1856.2\n",
       "Male: 75-84 years                                         1787.1\n",
       "...                                                          ...\n",
       "Female: Not Hispanic or Latino: Asian                        7.8\n",
       "Female: Not Hispanic or Latino: Asian: 15-24 years           6.9\n",
       "Female: Not Hispanic or Latino: Asian: 45-64 years           4.8\n",
       "Female: Not Hispanic or Latino: Asian: 25-44 years           4.2\n",
       "Female: Not Hispanic or Latino: Asian: 65 years...           3.6\n",
       "\n",
       "[150 rows x 1 columns]"
      ]
     },
     "execution_count": 18,
     "metadata": {},
     "output_type": "execute_result"
    }
   ],
   "source": [
    "(dfNEW\n",
    " .groupby(['STUB_LABEL'])\n",
    " .agg(SUM_ESTIMATE=('ESTIMATE','sum'))\n",
    ").sort_values(by=['SUM_ESTIMATE'],ascending=False)"
   ]
  },
  {
   "cell_type": "code",
   "execution_count": 19,
   "id": "77eb583b",
   "metadata": {},
   "outputs": [
    {
     "data": {
      "text/html": [
       "<div>\n",
       "<style scoped>\n",
       "    .dataframe tbody tr th:only-of-type {\n",
       "        vertical-align: middle;\n",
       "    }\n",
       "\n",
       "    .dataframe tbody tr th {\n",
       "        vertical-align: top;\n",
       "    }\n",
       "\n",
       "    .dataframe thead th {\n",
       "        text-align: right;\n",
       "    }\n",
       "</style>\n",
       "<table border=\"1\" class=\"dataframe\">\n",
       "  <thead>\n",
       "    <tr style=\"text-align: right;\">\n",
       "      <th></th>\n",
       "      <th>SUM_ESTIMATE</th>\n",
       "    </tr>\n",
       "    <tr>\n",
       "      <th>STUB_LABEL</th>\n",
       "      <th></th>\n",
       "    </tr>\n",
       "  </thead>\n",
       "  <tbody>\n",
       "    <tr>\n",
       "      <th>Male: White: 85 years and over</th>\n",
       "      <td>2514.5</td>\n",
       "    </tr>\n",
       "    <tr>\n",
       "      <th>Male: 85 years and over</th>\n",
       "      <td>2292.4</td>\n",
       "    </tr>\n",
       "    <tr>\n",
       "      <th>Male: White: 75-84 years</th>\n",
       "      <td>1956.4</td>\n",
       "    </tr>\n",
       "    <tr>\n",
       "      <th>Male: White</th>\n",
       "      <td>1856.2</td>\n",
       "    </tr>\n",
       "    <tr>\n",
       "      <th>Male: 75-84 years</th>\n",
       "      <td>1787.1</td>\n",
       "    </tr>\n",
       "    <tr>\n",
       "      <th>Male</th>\n",
       "      <td>1654.1</td>\n",
       "    </tr>\n",
       "    <tr>\n",
       "      <th>Male: Not Hispanic or Latino: White</th>\n",
       "      <td>1647.8</td>\n",
       "    </tr>\n",
       "    <tr>\n",
       "      <th>Male: White: 65 years and over</th>\n",
       "      <td>1616.4</td>\n",
       "    </tr>\n",
       "    <tr>\n",
       "      <th>Male: 65 years and over</th>\n",
       "      <td>1470.3</td>\n",
       "    </tr>\n",
       "    <tr>\n",
       "      <th>Male: American Indian or Alaska Native</th>\n",
       "      <td>1335.4</td>\n",
       "    </tr>\n",
       "  </tbody>\n",
       "</table>\n",
       "</div>"
      ],
      "text/plain": [
       "                                        SUM_ESTIMATE\n",
       "STUB_LABEL                                          \n",
       "Male: White: 85 years and over                2514.5\n",
       "Male: 85 years and over                       2292.4\n",
       "Male: White: 75-84 years                      1956.4\n",
       "Male: White                                   1856.2\n",
       "Male: 75-84 years                             1787.1\n",
       "Male                                          1654.1\n",
       "Male: Not Hispanic or Latino: White           1647.8\n",
       "Male: White: 65 years and over                1616.4\n",
       "Male: 65 years and over                       1470.3\n",
       "Male: American Indian or Alaska Native        1335.4"
      ]
     },
     "execution_count": 19,
     "metadata": {},
     "output_type": "execute_result"
    }
   ],
   "source": [
    "(dfNEW\n",
    " .groupby(['STUB_LABEL'])\n",
    " .agg(SUM_ESTIMATE=('ESTIMATE','sum'))\n",
    ").sort_values(by=['SUM_ESTIMATE'],ascending=False)[:10]"
   ]
  },
  {
   "cell_type": "markdown",
   "id": "308b4777",
   "metadata": {},
   "source": [
    "### *The highest Estimate of Death rate of suicide*"
   ]
  },
  {
   "cell_type": "code",
   "execution_count": 20,
   "id": "62ae0880",
   "metadata": {},
   "outputs": [
    {
     "data": {
      "text/plain": [
       "<Figure size 432x576 with 0 Axes>"
      ]
     },
     "metadata": {},
     "output_type": "display_data"
    },
    {
     "data": {
      "image/png": "[encoded data removed]",
      "text/plain": [
       "<Figure size 432x288 with 1 Axes>"
      ]
     },
     "metadata": {},
     "output_type": "display_data"
    }
   ],
   "source": [
    "F = (dfNEW\n",
    " .groupby(['STUB_LABEL'])\n",
    " .agg(SUM_ESTIMATE=('ESTIMATE','sum'))\n",
    ").sort_values(by=['SUM_ESTIMATE'],ascending=False)[:10]\n",
    "plt.figure(figsize=(6, 8))\n",
    "F.plot.barh(stacked=True,color='g', alpha=0.5)\n",
    "plt.show()"
   ]
  },
  {
   "cell_type": "markdown",
   "id": "489b8360",
   "metadata": {},
   "source": [
    "\n",
    "\n",
    "\n"
   ]
  },
  {
   "cell_type": "markdown",
   "id": "2e18dc07",
   "metadata": {},
   "source": [
    "### *Looking at the High occurance of death rate Suicide*"
   ]
  },
  {
   "cell_type": "code",
   "execution_count": 21,
   "id": "40c1f226",
   "metadata": {},
   "outputs": [
    {
     "data": {
      "text/html": [
       "<div>\n",
       "<style scoped>\n",
       "    .dataframe tbody tr th:only-of-type {\n",
       "        vertical-align: middle;\n",
       "    }\n",
       "\n",
       "    .dataframe tbody tr th {\n",
       "        vertical-align: top;\n",
       "    }\n",
       "\n",
       "    .dataframe thead th {\n",
       "        text-align: right;\n",
       "    }\n",
       "</style>\n",
       "<table border=\"1\" class=\"dataframe\">\n",
       "  <thead>\n",
       "    <tr style=\"text-align: right;\">\n",
       "      <th></th>\n",
       "      <th>COUNT_ESTIMATE</th>\n",
       "    </tr>\n",
       "    <tr>\n",
       "      <th>STUB_LABEL</th>\n",
       "      <th></th>\n",
       "    </tr>\n",
       "  </thead>\n",
       "  <tbody>\n",
       "    <tr>\n",
       "      <th>Female: Black or African American</th>\n",
       "      <td>87</td>\n",
       "    </tr>\n",
       "    <tr>\n",
       "      <th>Female: White</th>\n",
       "      <td>86</td>\n",
       "    </tr>\n",
       "    <tr>\n",
       "      <th>Male: White</th>\n",
       "      <td>86</td>\n",
       "    </tr>\n",
       "    <tr>\n",
       "      <th>Male: Black or African American</th>\n",
       "      <td>85</td>\n",
       "    </tr>\n",
       "    <tr>\n",
       "      <th>Female</th>\n",
       "      <td>84</td>\n",
       "    </tr>\n",
       "    <tr>\n",
       "      <th>...</th>\n",
       "      <td>...</td>\n",
       "    </tr>\n",
       "    <tr>\n",
       "      <th>Male: Not Hispanic or Latino: Native Hawaiian or Other Pacific Islander: 25-44 years</th>\n",
       "      <td>1</td>\n",
       "    </tr>\n",
       "    <tr>\n",
       "      <th>Female: Not Hispanic or Latino: Asian: 45-64 years</th>\n",
       "      <td>1</td>\n",
       "    </tr>\n",
       "    <tr>\n",
       "      <th>Male: Not Hispanic or Latino: Asian: 65 years and over</th>\n",
       "      <td>1</td>\n",
       "    </tr>\n",
       "    <tr>\n",
       "      <th>Male: Not Hispanic or Latino: Asian: 45-64 years</th>\n",
       "      <td>1</td>\n",
       "    </tr>\n",
       "    <tr>\n",
       "      <th>Male: Not Hispanic or Latino: Asian: 15-24 years</th>\n",
       "      <td>1</td>\n",
       "    </tr>\n",
       "  </tbody>\n",
       "</table>\n",
       "<p>150 rows × 1 columns</p>\n",
       "</div>"
      ],
      "text/plain": [
       "                                                    COUNT_ESTIMATE\n",
       "STUB_LABEL                                                        \n",
       "Female: Black or African American                               87\n",
       "Female: White                                                   86\n",
       "Male: White                                                     86\n",
       "Male: Black or African American                                 85\n",
       "Female                                                          84\n",
       "...                                                            ...\n",
       "Male: Not Hispanic or Latino: Native Hawaiian o...               1\n",
       "Female: Not Hispanic or Latino: Asian: 45-64 years               1\n",
       "Male: Not Hispanic or Latino: Asian: 65 years a...               1\n",
       "Male: Not Hispanic or Latino: Asian: 45-64 years                 1\n",
       "Male: Not Hispanic or Latino: Asian: 15-24 years                 1\n",
       "\n",
       "[150 rows x 1 columns]"
      ]
     },
     "execution_count": 21,
     "metadata": {},
     "output_type": "execute_result"
    }
   ],
   "source": [
    "(dfNEW\n",
    " .groupby(['STUB_LABEL'])\n",
    " .agg(COUNT_ESTIMATE=('ESTIMATE','count'))\n",
    ").sort_values(by=['COUNT_ESTIMATE'],ascending=False)"
   ]
  },
  {
   "cell_type": "code",
   "execution_count": 22,
   "id": "b4f5809c",
   "metadata": {},
   "outputs": [
    {
     "data": {
      "text/html": [
       "<div>\n",
       "<style scoped>\n",
       "    .dataframe tbody tr th:only-of-type {\n",
       "        vertical-align: middle;\n",
       "    }\n",
       "\n",
       "    .dataframe tbody tr th {\n",
       "        vertical-align: top;\n",
       "    }\n",
       "\n",
       "    .dataframe thead th {\n",
       "        text-align: right;\n",
       "    }\n",
       "</style>\n",
       "<table border=\"1\" class=\"dataframe\">\n",
       "  <thead>\n",
       "    <tr style=\"text-align: right;\">\n",
       "      <th></th>\n",
       "      <th>COUNT_ESTIMATE</th>\n",
       "    </tr>\n",
       "    <tr>\n",
       "      <th>STUB_LABEL</th>\n",
       "      <th></th>\n",
       "    </tr>\n",
       "  </thead>\n",
       "  <tbody>\n",
       "    <tr>\n",
       "      <th>Female: Black or African American</th>\n",
       "      <td>87</td>\n",
       "    </tr>\n",
       "    <tr>\n",
       "      <th>Female: White</th>\n",
       "      <td>86</td>\n",
       "    </tr>\n",
       "    <tr>\n",
       "      <th>Male: White</th>\n",
       "      <td>86</td>\n",
       "    </tr>\n",
       "    <tr>\n",
       "      <th>Male: Black or African American</th>\n",
       "      <td>85</td>\n",
       "    </tr>\n",
       "    <tr>\n",
       "      <th>Female</th>\n",
       "      <td>84</td>\n",
       "    </tr>\n",
       "    <tr>\n",
       "      <th>All persons</th>\n",
       "      <td>84</td>\n",
       "    </tr>\n",
       "    <tr>\n",
       "      <th>Male</th>\n",
       "      <td>84</td>\n",
       "    </tr>\n",
       "    <tr>\n",
       "      <th>Female: American Indian or Alaska Native</th>\n",
       "      <td>74</td>\n",
       "    </tr>\n",
       "    <tr>\n",
       "      <th>Male: American Indian or Alaska Native</th>\n",
       "      <td>74</td>\n",
       "    </tr>\n",
       "    <tr>\n",
       "      <th>Female: Asian or Pacific Islander</th>\n",
       "      <td>72</td>\n",
       "    </tr>\n",
       "  </tbody>\n",
       "</table>\n",
       "</div>"
      ],
      "text/plain": [
       "                                          COUNT_ESTIMATE\n",
       "STUB_LABEL                                              \n",
       "Female: Black or African American                     87\n",
       "Female: White                                         86\n",
       "Male: White                                           86\n",
       "Male: Black or African American                       85\n",
       "Female                                                84\n",
       "All persons                                           84\n",
       "Male                                                  84\n",
       "Female: American Indian or Alaska Native              74\n",
       "Male: American Indian or Alaska Native                74\n",
       "Female: Asian or Pacific Islander                     72"
      ]
     },
     "execution_count": 22,
     "metadata": {},
     "output_type": "execute_result"
    }
   ],
   "source": [
    "# The top ten Highest occurance suicide rate\n",
    "(dfNEW\n",
    " .groupby(['STUB_LABEL'])\n",
    " .agg(COUNT_ESTIMATE=('ESTIMATE','count'))\n",
    ").sort_values(by=['COUNT_ESTIMATE'],ascending=False)[:10]"
   ]
  },
  {
   "cell_type": "markdown",
   "id": "66cd1c12",
   "metadata": {},
   "source": [
    "### *The number of Occurance of Death rate suicide*"
   ]
  },
  {
   "cell_type": "code",
   "execution_count": 23,
   "id": "e6c1fb05",
   "metadata": {},
   "outputs": [
    {
     "data": {
      "text/plain": [
       "<Figure size 432x576 with 0 Axes>"
      ]
     },
     "metadata": {},
     "output_type": "display_data"
    },
    {
     "data": {
      "image/png": "[encoded data removed]",
      "text/plain": [
       "<Figure size 432x288 with 1 Axes>"
      ]
     },
     "metadata": {},
     "output_type": "display_data"
    }
   ],
   "source": [
    "F = (dfNEW\n",
    " .groupby(['STUB_LABEL'])\n",
    " .agg(COUNT_ESTIMATE=('ESTIMATE','count'))\n",
    ").sort_values(by=['COUNT_ESTIMATE'],ascending=False)[:10]\n",
    "plt.figure(figsize=(6, 8))\n",
    "F.plot.barh(stacked=True, color='b',alpha=0.5)\n",
    "plt.show()"
   ]
  },
  {
   "cell_type": "markdown",
   "id": "8b460063",
   "metadata": {},
   "source": [
    "### *The above shows that Female: Black or African American commits the highest Death rates of suicide being 87 in number. The the analysis confirms it.*"
   ]
  },
  {
   "cell_type": "markdown",
   "id": "0f0acd5a",
   "metadata": {},
   "source": [
    "### *The Top Must Succide committing group.*"
   ]
  },
  {
   "cell_type": "code",
   "execution_count": 24,
   "id": "5d712ba6",
   "metadata": {},
   "outputs": [
    {
     "data": {
      "text/html": [
       "<div>\n",
       "<style scoped>\n",
       "    .dataframe tbody tr th:only-of-type {\n",
       "        vertical-align: middle;\n",
       "    }\n",
       "\n",
       "    .dataframe tbody tr th {\n",
       "        vertical-align: top;\n",
       "    }\n",
       "\n",
       "    .dataframe thead th {\n",
       "        text-align: right;\n",
       "    }\n",
       "</style>\n",
       "<table border=\"1\" class=\"dataframe\">\n",
       "  <thead>\n",
       "    <tr style=\"text-align: right;\">\n",
       "      <th></th>\n",
       "      <th>UNIT</th>\n",
       "      <th>STUB_NAME</th>\n",
       "      <th>STUB_LABEL</th>\n",
       "      <th>YEAR</th>\n",
       "      <th>AGE</th>\n",
       "      <th>ESTIMATE</th>\n",
       "    </tr>\n",
       "  </thead>\n",
       "  <tbody>\n",
       "    <tr>\n",
       "      <th>6297</th>\n",
       "      <td>Deaths per 100,000 resident population, crude</td>\n",
       "      <td>Sex and race (Single race)</td>\n",
       "      <td>Female: Black or African American</td>\n",
       "      <td>2018</td>\n",
       "      <td>All ages</td>\n",
       "      <td>11.9</td>\n",
       "    </tr>\n",
       "    <tr>\n",
       "      <th>338</th>\n",
       "      <td>Deaths per 100,000 resident population, age-ad...</td>\n",
       "      <td>Sex and race</td>\n",
       "      <td>Female: Black or African American</td>\n",
       "      <td>1970</td>\n",
       "      <td>All ages</td>\n",
       "      <td>2.9</td>\n",
       "    </tr>\n",
       "    <tr>\n",
       "      <th>6298</th>\n",
       "      <td>Deaths per 100,000 resident population, crude</td>\n",
       "      <td>Sex and race (Single race)</td>\n",
       "      <td>Female: Black or African American</td>\n",
       "      <td>2018</td>\n",
       "      <td>All ages</td>\n",
       "      <td>2.8</td>\n",
       "    </tr>\n",
       "    <tr>\n",
       "      <th>377</th>\n",
       "      <td>Deaths per 100,000 resident population, age-ad...</td>\n",
       "      <td>Sex and race</td>\n",
       "      <td>Female: Black or African American</td>\n",
       "      <td>2018</td>\n",
       "      <td>All ages</td>\n",
       "      <td>2.8</td>\n",
       "    </tr>\n",
       "    <tr>\n",
       "      <th>2953</th>\n",
       "      <td>Deaths per 100,000 resident population, crude</td>\n",
       "      <td>Sex and race</td>\n",
       "      <td>Female: Black or African American</td>\n",
       "      <td>2018</td>\n",
       "      <td>All ages</td>\n",
       "      <td>2.8</td>\n",
       "    </tr>\n",
       "    <tr>\n",
       "      <th>...</th>\n",
       "      <td>...</td>\n",
       "      <td>...</td>\n",
       "      <td>...</td>\n",
       "      <td>...</td>\n",
       "      <td>...</td>\n",
       "      <td>...</td>\n",
       "    </tr>\n",
       "    <tr>\n",
       "      <th>2913</th>\n",
       "      <td>Deaths per 100,000 resident population, crude</td>\n",
       "      <td>Sex and race</td>\n",
       "      <td>Female: Black or African American</td>\n",
       "      <td>1960</td>\n",
       "      <td>All ages</td>\n",
       "      <td>1.6</td>\n",
       "    </tr>\n",
       "    <tr>\n",
       "      <th>2937</th>\n",
       "      <td>Deaths per 100,000 resident population, crude</td>\n",
       "      <td>Sex and race</td>\n",
       "      <td>Female: Black or African American</td>\n",
       "      <td>2002</td>\n",
       "      <td>All ages</td>\n",
       "      <td>1.5</td>\n",
       "    </tr>\n",
       "    <tr>\n",
       "      <th>2912</th>\n",
       "      <td>Deaths per 100,000 resident population, crude</td>\n",
       "      <td>Sex and race</td>\n",
       "      <td>Female: Black or African American</td>\n",
       "      <td>1950</td>\n",
       "      <td>All ages</td>\n",
       "      <td>1.5</td>\n",
       "    </tr>\n",
       "    <tr>\n",
       "      <th>365</th>\n",
       "      <td>Deaths per 100,000 resident population, age-ad...</td>\n",
       "      <td>Sex and race</td>\n",
       "      <td>Female: Black or African American</td>\n",
       "      <td>2006</td>\n",
       "      <td>All ages</td>\n",
       "      <td>1.4</td>\n",
       "    </tr>\n",
       "    <tr>\n",
       "      <th>2941</th>\n",
       "      <td>Deaths per 100,000 resident population, crude</td>\n",
       "      <td>Sex and race</td>\n",
       "      <td>Female: Black or African American</td>\n",
       "      <td>2006</td>\n",
       "      <td>All ages</td>\n",
       "      <td>1.4</td>\n",
       "    </tr>\n",
       "  </tbody>\n",
       "</table>\n",
       "<p>87 rows × 6 columns</p>\n",
       "</div>"
      ],
      "text/plain": [
       "                                                   UNIT  \\\n",
       "6297      Deaths per 100,000 resident population, crude   \n",
       "338   Deaths per 100,000 resident population, age-ad...   \n",
       "6298      Deaths per 100,000 resident population, crude   \n",
       "377   Deaths per 100,000 resident population, age-ad...   \n",
       "2953      Deaths per 100,000 resident population, crude   \n",
       "...                                                 ...   \n",
       "2913      Deaths per 100,000 resident population, crude   \n",
       "2937      Deaths per 100,000 resident population, crude   \n",
       "2912      Deaths per 100,000 resident population, crude   \n",
       "365   Deaths per 100,000 resident population, age-ad...   \n",
       "2941      Deaths per 100,000 resident population, crude   \n",
       "\n",
       "                       STUB_NAME                         STUB_LABEL  YEAR  \\\n",
       "6297  Sex and race (Single race)  Female: Black or African American  2018   \n",
       "338                 Sex and race  Female: Black or African American  1970   \n",
       "6298  Sex and race (Single race)  Female: Black or African American  2018   \n",
       "377                 Sex and race  Female: Black or African American  2018   \n",
       "2953                Sex and race  Female: Black or African American  2018   \n",
       "...                          ...                                ...   ...   \n",
       "2913                Sex and race  Female: Black or African American  1960   \n",
       "2937                Sex and race  Female: Black or African American  2002   \n",
       "2912                Sex and race  Female: Black or African American  1950   \n",
       "365                 Sex and race  Female: Black or African American  2006   \n",
       "2941                Sex and race  Female: Black or African American  2006   \n",
       "\n",
       "           AGE  ESTIMATE  \n",
       "6297  All ages      11.9  \n",
       "338   All ages       2.9  \n",
       "6298  All ages       2.8  \n",
       "377   All ages       2.8  \n",
       "2953  All ages       2.8  \n",
       "...        ...       ...  \n",
       "2913  All ages       1.6  \n",
       "2937  All ages       1.5  \n",
       "2912  All ages       1.5  \n",
       "365   All ages       1.4  \n",
       "2941  All ages       1.4  \n",
       "\n",
       "[87 rows x 6 columns]"
      ]
     },
     "execution_count": 24,
     "metadata": {},
     "output_type": "execute_result"
    }
   ],
   "source": [
    "df_STUB_LABEL=dfNEW.query('STUB_LABEL ==\"Female: Black or African American\"').sort_values(by=['ESTIMATE'],ascending=False)\n",
    "df_STUB_LABEL"
   ]
  },
  {
   "cell_type": "code",
   "execution_count": 25,
   "id": "0ec2080c",
   "metadata": {},
   "outputs": [
    {
     "data": {
      "text/html": [
       "<div>\n",
       "<style scoped>\n",
       "    .dataframe tbody tr th:only-of-type {\n",
       "        vertical-align: middle;\n",
       "    }\n",
       "\n",
       "    .dataframe tbody tr th {\n",
       "        vertical-align: top;\n",
       "    }\n",
       "\n",
       "    .dataframe thead th {\n",
       "        text-align: right;\n",
       "    }\n",
       "</style>\n",
       "<table border=\"1\" class=\"dataframe\">\n",
       "  <thead>\n",
       "    <tr style=\"text-align: right;\">\n",
       "      <th></th>\n",
       "      <th>UNIT</th>\n",
       "      <th>STUB_NAME</th>\n",
       "      <th>STUB_LABEL</th>\n",
       "      <th>YEAR</th>\n",
       "      <th>AGE</th>\n",
       "      <th>ESTIMATE</th>\n",
       "    </tr>\n",
       "  </thead>\n",
       "  <tbody>\n",
       "    <tr>\n",
       "      <th>6297</th>\n",
       "      <td>Deaths per 100,000 resident population, crude</td>\n",
       "      <td>Sex and race (Single race)</td>\n",
       "      <td>Female: Black or African American</td>\n",
       "      <td>2018</td>\n",
       "      <td>All ages</td>\n",
       "      <td>11.9</td>\n",
       "    </tr>\n",
       "    <tr>\n",
       "      <th>338</th>\n",
       "      <td>Deaths per 100,000 resident population, age-ad...</td>\n",
       "      <td>Sex and race</td>\n",
       "      <td>Female: Black or African American</td>\n",
       "      <td>1970</td>\n",
       "      <td>All ages</td>\n",
       "      <td>2.9</td>\n",
       "    </tr>\n",
       "    <tr>\n",
       "      <th>6298</th>\n",
       "      <td>Deaths per 100,000 resident population, crude</td>\n",
       "      <td>Sex and race (Single race)</td>\n",
       "      <td>Female: Black or African American</td>\n",
       "      <td>2018</td>\n",
       "      <td>All ages</td>\n",
       "      <td>2.8</td>\n",
       "    </tr>\n",
       "    <tr>\n",
       "      <th>377</th>\n",
       "      <td>Deaths per 100,000 resident population, age-ad...</td>\n",
       "      <td>Sex and race</td>\n",
       "      <td>Female: Black or African American</td>\n",
       "      <td>2018</td>\n",
       "      <td>All ages</td>\n",
       "      <td>2.8</td>\n",
       "    </tr>\n",
       "    <tr>\n",
       "      <th>2953</th>\n",
       "      <td>Deaths per 100,000 resident population, crude</td>\n",
       "      <td>Sex and race</td>\n",
       "      <td>Female: Black or African American</td>\n",
       "      <td>2018</td>\n",
       "      <td>All ages</td>\n",
       "      <td>2.8</td>\n",
       "    </tr>\n",
       "    <tr>\n",
       "      <th>2952</th>\n",
       "      <td>Deaths per 100,000 resident population, crude</td>\n",
       "      <td>Sex and race</td>\n",
       "      <td>Female: Black or African American</td>\n",
       "      <td>2017</td>\n",
       "      <td>All ages</td>\n",
       "      <td>2.7</td>\n",
       "    </tr>\n",
       "    <tr>\n",
       "      <th>800</th>\n",
       "      <td>Deaths per 100,000 resident population, age-ad...</td>\n",
       "      <td>Sex and race (Single race)</td>\n",
       "      <td>Female: Black or African American</td>\n",
       "      <td>2018</td>\n",
       "      <td>All ages</td>\n",
       "      <td>2.7</td>\n",
       "    </tr>\n",
       "    <tr>\n",
       "      <th>376</th>\n",
       "      <td>Deaths per 100,000 resident population, age-ad...</td>\n",
       "      <td>Sex and race</td>\n",
       "      <td>Female: Black or African American</td>\n",
       "      <td>2017</td>\n",
       "      <td>All ages</td>\n",
       "      <td>2.7</td>\n",
       "    </tr>\n",
       "    <tr>\n",
       "      <th>2914</th>\n",
       "      <td>Deaths per 100,000 resident population, crude</td>\n",
       "      <td>Sex and race</td>\n",
       "      <td>Female: Black or African American</td>\n",
       "      <td>1970</td>\n",
       "      <td>All ages</td>\n",
       "      <td>2.6</td>\n",
       "    </tr>\n",
       "    <tr>\n",
       "      <th>347</th>\n",
       "      <td>Deaths per 100,000 resident population, age-ad...</td>\n",
       "      <td>Sex and race</td>\n",
       "      <td>Female: Black or African American</td>\n",
       "      <td>1988</td>\n",
       "      <td>All ages</td>\n",
       "      <td>2.5</td>\n",
       "    </tr>\n",
       "  </tbody>\n",
       "</table>\n",
       "</div>"
      ],
      "text/plain": [
       "                                                   UNIT  \\\n",
       "6297      Deaths per 100,000 resident population, crude   \n",
       "338   Deaths per 100,000 resident population, age-ad...   \n",
       "6298      Deaths per 100,000 resident population, crude   \n",
       "377   Deaths per 100,000 resident population, age-ad...   \n",
       "2953      Deaths per 100,000 resident population, crude   \n",
       "2952      Deaths per 100,000 resident population, crude   \n",
       "800   Deaths per 100,000 resident population, age-ad...   \n",
       "376   Deaths per 100,000 resident population, age-ad...   \n",
       "2914      Deaths per 100,000 resident population, crude   \n",
       "347   Deaths per 100,000 resident population, age-ad...   \n",
       "\n",
       "                       STUB_NAME                         STUB_LABEL  YEAR  \\\n",
       "6297  Sex and race (Single race)  Female: Black or African American  2018   \n",
       "338                 Sex and race  Female: Black or African American  1970   \n",
       "6298  Sex and race (Single race)  Female: Black or African American  2018   \n",
       "377                 Sex and race  Female: Black or African American  2018   \n",
       "2953                Sex and race  Female: Black or African American  2018   \n",
       "2952                Sex and race  Female: Black or African American  2017   \n",
       "800   Sex and race (Single race)  Female: Black or African American  2018   \n",
       "376                 Sex and race  Female: Black or African American  2017   \n",
       "2914                Sex and race  Female: Black or African American  1970   \n",
       "347                 Sex and race  Female: Black or African American  1988   \n",
       "\n",
       "           AGE  ESTIMATE  \n",
       "6297  All ages      11.9  \n",
       "338   All ages       2.9  \n",
       "6298  All ages       2.8  \n",
       "377   All ages       2.8  \n",
       "2953  All ages       2.8  \n",
       "2952  All ages       2.7  \n",
       "800   All ages       2.7  \n",
       "376   All ages       2.7  \n",
       "2914  All ages       2.6  \n",
       "347   All ages       2.5  "
      ]
     },
     "execution_count": 25,
     "metadata": {},
     "output_type": "execute_result"
    }
   ],
   "source": [
    "df_STUB_LABEL.head(10)"
   ]
  },
  {
   "cell_type": "code",
   "execution_count": 26,
   "id": "a7aeb8c3",
   "metadata": {},
   "outputs": [
    {
     "data": {
      "image/png": "[encoded data removed]",
      "text/plain": [
       "<Figure size 432x576 with 1 Axes>"
      ]
     },
     "metadata": {},
     "output_type": "display_data"
    }
   ],
   "source": [
    "F = df_STUB_LABEL.head()\n",
    "sns.set_style(\"ticks\")\n",
    "sns.set_style(\"dark\")\n",
    "sns.set_palette(\"husl\")\n",
    "plt.figure(figsize=(6, 8))\n",
    "sns.barplot(x=\"STUB_LABEL\", y=\"ESTIMATE\",hue=\"UNIT\" ,data=F)\n",
    "plt.show()"
   ]
  },
  {
   "cell_type": "markdown",
   "id": "ffd0d050",
   "metadata": {},
   "source": [
    "### *Aggregating the most occured death rate of suicide.*"
   ]
  },
  {
   "cell_type": "code",
   "execution_count": 27,
   "id": "fb36a1e4",
   "metadata": {},
   "outputs": [
    {
     "data": {
      "text/html": [
       "<div>\n",
       "<style scoped>\n",
       "    .dataframe tbody tr th:only-of-type {\n",
       "        vertical-align: middle;\n",
       "    }\n",
       "\n",
       "    .dataframe tbody tr th {\n",
       "        vertical-align: top;\n",
       "    }\n",
       "\n",
       "    .dataframe thead th {\n",
       "        text-align: right;\n",
       "    }\n",
       "</style>\n",
       "<table border=\"1\" class=\"dataframe\">\n",
       "  <thead>\n",
       "    <tr style=\"text-align: right;\">\n",
       "      <th></th>\n",
       "      <th>SUM_ESTIMATE</th>\n",
       "    </tr>\n",
       "    <tr>\n",
       "      <th>STUB_LABEL</th>\n",
       "      <th></th>\n",
       "    </tr>\n",
       "  </thead>\n",
       "  <tbody>\n",
       "    <tr>\n",
       "      <th>Female: Black or African American</th>\n",
       "      <td>188.3</td>\n",
       "    </tr>\n",
       "  </tbody>\n",
       "</table>\n",
       "</div>"
      ],
      "text/plain": [
       "                                   SUM_ESTIMATE\n",
       "STUB_LABEL                                     \n",
       "Female: Black or African American         188.3"
      ]
     },
     "execution_count": 27,
     "metadata": {},
     "output_type": "execute_result"
    }
   ],
   "source": [
    "(df_STUB_LABEL\n",
    " .groupby(['STUB_LABEL'])\n",
    " .agg(SUM_ESTIMATE=('ESTIMATE','sum'))\n",
    ")"
   ]
  },
  {
   "cell_type": "markdown",
   "id": "09988aa2",
   "metadata": {},
   "source": [
    "### *The above shows that Female: Black or African American commits the highest Death rates of suicide being 87 in number and Female: Black or African American of Sex and race (Single race) and of all ages have the highest estimate being 11.9 in 2018 as shown*"
   ]
  },
  {
   "cell_type": "markdown",
   "id": "bede6660",
   "metadata": {},
   "source": [
    "### *Investigating the lowest Death rates of suicide in the table above(STUB_LABEL) with age inclusive.*"
   ]
  },
  {
   "cell_type": "code",
   "execution_count": 28,
   "id": "88cdfd71",
   "metadata": {},
   "outputs": [
    {
     "data": {
      "text/html": [
       "<div>\n",
       "<style scoped>\n",
       "    .dataframe tbody tr th:only-of-type {\n",
       "        vertical-align: middle;\n",
       "    }\n",
       "\n",
       "    .dataframe tbody tr th {\n",
       "        vertical-align: top;\n",
       "    }\n",
       "\n",
       "    .dataframe thead th {\n",
       "        text-align: right;\n",
       "    }\n",
       "</style>\n",
       "<table border=\"1\" class=\"dataframe\">\n",
       "  <thead>\n",
       "    <tr style=\"text-align: right;\">\n",
       "      <th></th>\n",
       "      <th>COUNT_ESTIMATE</th>\n",
       "    </tr>\n",
       "    <tr>\n",
       "      <th>STUB_LABEL</th>\n",
       "      <th></th>\n",
       "    </tr>\n",
       "  </thead>\n",
       "  <tbody>\n",
       "    <tr>\n",
       "      <th>Female: Not Hispanic or Latino: Asian: 25-44 years</th>\n",
       "      <td>1</td>\n",
       "    </tr>\n",
       "    <tr>\n",
       "      <th>Female: Not Hispanic or Latino: Asian: 65 years and over</th>\n",
       "      <td>1</td>\n",
       "    </tr>\n",
       "    <tr>\n",
       "      <th>Female: Not Hispanic or Latino: Asian: 45-64 years</th>\n",
       "      <td>1</td>\n",
       "    </tr>\n",
       "    <tr>\n",
       "      <th>Female: Not Hispanic or Latino: Asian: 15-24 years</th>\n",
       "      <td>1</td>\n",
       "    </tr>\n",
       "    <tr>\n",
       "      <th>Male: Not Hispanic or Latino: Native Hawaiian or Other Pacific Islander: 25-44 years</th>\n",
       "      <td>1</td>\n",
       "    </tr>\n",
       "    <tr>\n",
       "      <th>Male: Not Hispanic or Latino: Asian: 65 years and over</th>\n",
       "      <td>1</td>\n",
       "    </tr>\n",
       "    <tr>\n",
       "      <th>Male: Not Hispanic or Latino: Asian: 45-64 years</th>\n",
       "      <td>1</td>\n",
       "    </tr>\n",
       "    <tr>\n",
       "      <th>Male: Not Hispanic or Latino: Asian: 25-44 years</th>\n",
       "      <td>1</td>\n",
       "    </tr>\n",
       "    <tr>\n",
       "      <th>Male: Not Hispanic or Latino: Asian: 15-24 years</th>\n",
       "      <td>1</td>\n",
       "    </tr>\n",
       "    <tr>\n",
       "      <th>Male: Not Hispanic or Latino: Asian</th>\n",
       "      <td>2</td>\n",
       "    </tr>\n",
       "    <tr>\n",
       "      <th>Female: Not Hispanic or Latino: Asian</th>\n",
       "      <td>2</td>\n",
       "    </tr>\n",
       "    <tr>\n",
       "      <th>Male: Not Hispanic or Latino: Native Hawaiian or Other Pacific Islander</th>\n",
       "      <td>2</td>\n",
       "    </tr>\n",
       "    <tr>\n",
       "      <th>Male: Not Hispanic or Latino: American Indian or Alaska Native: 65 years and over</th>\n",
       "      <td>4</td>\n",
       "    </tr>\n",
       "    <tr>\n",
       "      <th>Male: American Indian or Alaska Native: 65 years and over</th>\n",
       "      <td>4</td>\n",
       "    </tr>\n",
       "    <tr>\n",
       "      <th>Female: American Indian or Alaska Native: 45-64 years</th>\n",
       "      <td>8</td>\n",
       "    </tr>\n",
       "  </tbody>\n",
       "</table>\n",
       "</div>"
      ],
      "text/plain": [
       "                                                    COUNT_ESTIMATE\n",
       "STUB_LABEL                                                        \n",
       "Female: Not Hispanic or Latino: Asian: 25-44 years               1\n",
       "Female: Not Hispanic or Latino: Asian: 65 years...               1\n",
       "Female: Not Hispanic or Latino: Asian: 45-64 years               1\n",
       "Female: Not Hispanic or Latino: Asian: 15-24 years               1\n",
       "Male: Not Hispanic or Latino: Native Hawaiian o...               1\n",
       "Male: Not Hispanic or Latino: Asian: 65 years a...               1\n",
       "Male: Not Hispanic or Latino: Asian: 45-64 years                 1\n",
       "Male: Not Hispanic or Latino: Asian: 25-44 years                 1\n",
       "Male: Not Hispanic or Latino: Asian: 15-24 years                 1\n",
       "Male: Not Hispanic or Latino: Asian                              2\n",
       "Female: Not Hispanic or Latino: Asian                            2\n",
       "Male: Not Hispanic or Latino: Native Hawaiian o...               2\n",
       "Male: Not Hispanic or Latino: American Indian o...               4\n",
       "Male: American Indian or Alaska Native: 65 year...               4\n",
       "Female: American Indian or Alaska Native: 45-64...               8"
      ]
     },
     "execution_count": 28,
     "metadata": {},
     "output_type": "execute_result"
    }
   ],
   "source": [
    "(dfNEW\n",
    " .groupby(['STUB_LABEL'])\n",
    " .agg(COUNT_ESTIMATE=('ESTIMATE','count'))\n",
    ").sort_values(by=['COUNT_ESTIMATE'],ascending=True)[:15]"
   ]
  },
  {
   "cell_type": "code",
   "execution_count": 29,
   "id": "613699f7",
   "metadata": {},
   "outputs": [
    {
     "data": {
      "text/plain": [
       "<Figure size 432x576 with 0 Axes>"
      ]
     },
     "metadata": {},
     "output_type": "display_data"
    },
    {
     "data": {
      "image/png": "[encoded data removed]",
      "text/plain": [
       "<Figure size 432x288 with 1 Axes>"
      ]
     },
     "metadata": {},
     "output_type": "display_data"
    }
   ],
   "source": [
    "F = (dfNEW\n",
    " .groupby(['STUB_LABEL'])\n",
    " .agg(COUNT_ESTIMATE=('ESTIMATE','count'))\n",
    ").sort_values(by=['COUNT_ESTIMATE'],ascending=True)[:15]\n",
    "plt.figure(figsize=(6, 8))\n",
    "F.plot.barh(stacked=True, color='r',alpha=0.5)\n",
    "plt.show()\n"
   ]
  },
  {
   "cell_type": "markdown",
   "id": "83df8f17",
   "metadata": {},
   "source": [
    "#### Investigating Male: Not Hispanic or Latino: Native Hawaiian or Other Pacific Islander: 25-44 years"
   ]
  },
  {
   "cell_type": "code",
   "execution_count": 30,
   "id": "4a7b55f1",
   "metadata": {},
   "outputs": [
    {
     "data": {
      "text/html": [
       "<div>\n",
       "<style scoped>\n",
       "    .dataframe tbody tr th:only-of-type {\n",
       "        vertical-align: middle;\n",
       "    }\n",
       "\n",
       "    .dataframe tbody tr th {\n",
       "        vertical-align: top;\n",
       "    }\n",
       "\n",
       "    .dataframe thead th {\n",
       "        text-align: right;\n",
       "    }\n",
       "</style>\n",
       "<table border=\"1\" class=\"dataframe\">\n",
       "  <thead>\n",
       "    <tr style=\"text-align: right;\">\n",
       "      <th></th>\n",
       "      <th>UNIT</th>\n",
       "      <th>STUB_NAME</th>\n",
       "      <th>STUB_LABEL</th>\n",
       "      <th>YEAR</th>\n",
       "      <th>AGE</th>\n",
       "      <th>ESTIMATE</th>\n",
       "    </tr>\n",
       "  </thead>\n",
       "  <tbody>\n",
       "    <tr>\n",
       "      <th>6351</th>\n",
       "      <td>Deaths per 100,000 resident population, crude</td>\n",
       "      <td>Sex, age and race and Hispanic origin (Single ...</td>\n",
       "      <td>Male: Not Hispanic or Latino: Native Hawaiian ...</td>\n",
       "      <td>2018</td>\n",
       "      <td>25-44 years</td>\n",
       "      <td>38.1</td>\n",
       "    </tr>\n",
       "  </tbody>\n",
       "</table>\n",
       "</div>"
      ],
      "text/plain": [
       "                                               UNIT  \\\n",
       "6351  Deaths per 100,000 resident population, crude   \n",
       "\n",
       "                                              STUB_NAME  \\\n",
       "6351  Sex, age and race and Hispanic origin (Single ...   \n",
       "\n",
       "                                             STUB_LABEL  YEAR          AGE  \\\n",
       "6351  Male: Not Hispanic or Latino: Native Hawaiian ...  2018  25-44 years   \n",
       "\n",
       "      ESTIMATE  \n",
       "6351      38.1  "
      ]
     },
     "execution_count": 30,
     "metadata": {},
     "output_type": "execute_result"
    }
   ],
   "source": [
    "df_STUB_LABEL_LOWEST=dfNEW.query('STUB_LABEL ==\"Male: Not Hispanic or Latino: Native Hawaiian or Other Pacific Islander: 25-44 years\"')\n",
    "df_STUB_LABEL_LOWEST"
   ]
  },
  {
   "cell_type": "code",
   "execution_count": 31,
   "id": "1069d9a6",
   "metadata": {},
   "outputs": [
    {
     "data": {
      "text/html": [
       "<div>\n",
       "<style scoped>\n",
       "    .dataframe tbody tr th:only-of-type {\n",
       "        vertical-align: middle;\n",
       "    }\n",
       "\n",
       "    .dataframe tbody tr th {\n",
       "        vertical-align: top;\n",
       "    }\n",
       "\n",
       "    .dataframe thead th {\n",
       "        text-align: right;\n",
       "    }\n",
       "</style>\n",
       "<table border=\"1\" class=\"dataframe\">\n",
       "  <thead>\n",
       "    <tr style=\"text-align: right;\">\n",
       "      <th></th>\n",
       "      <th>UNIT</th>\n",
       "      <th>STUB_NAME</th>\n",
       "      <th>STUB_LABEL</th>\n",
       "      <th>YEAR</th>\n",
       "      <th>AGE</th>\n",
       "      <th>ESTIMATE</th>\n",
       "    </tr>\n",
       "  </thead>\n",
       "  <tbody>\n",
       "    <tr>\n",
       "      <th>6361</th>\n",
       "      <td>Deaths per 100,000 resident population, crude</td>\n",
       "      <td>Sex, age and race and Hispanic origin (Single ...</td>\n",
       "      <td>Female: Not Hispanic or Latino: Asian: 65 year...</td>\n",
       "      <td>2018</td>\n",
       "      <td>65 years and over</td>\n",
       "      <td>3.6</td>\n",
       "    </tr>\n",
       "    <tr>\n",
       "      <th>6359</th>\n",
       "      <td>Deaths per 100,000 resident population, crude</td>\n",
       "      <td>Sex, age and race and Hispanic origin (Single ...</td>\n",
       "      <td>Female: Not Hispanic or Latino: Asian: 25-44 y...</td>\n",
       "      <td>2018</td>\n",
       "      <td>25-44 years</td>\n",
       "      <td>4.2</td>\n",
       "    </tr>\n",
       "    <tr>\n",
       "      <th>6360</th>\n",
       "      <td>Deaths per 100,000 resident population, crude</td>\n",
       "      <td>Sex, age and race and Hispanic origin (Single ...</td>\n",
       "      <td>Female: Not Hispanic or Latino: Asian: 45-64 y...</td>\n",
       "      <td>2018</td>\n",
       "      <td>45-64 years</td>\n",
       "      <td>4.8</td>\n",
       "    </tr>\n",
       "    <tr>\n",
       "      <th>6358</th>\n",
       "      <td>Deaths per 100,000 resident population, crude</td>\n",
       "      <td>Sex, age and race and Hispanic origin (Single ...</td>\n",
       "      <td>Female: Not Hispanic or Latino: Asian: 15-24 y...</td>\n",
       "      <td>2018</td>\n",
       "      <td>15-24 years</td>\n",
       "      <td>6.9</td>\n",
       "    </tr>\n",
       "    <tr>\n",
       "      <th>6347</th>\n",
       "      <td>Deaths per 100,000 resident population, crude</td>\n",
       "      <td>Sex, age and race and Hispanic origin (Single ...</td>\n",
       "      <td>Male: Not Hispanic or Latino: Asian: 25-44 years</td>\n",
       "      <td>2018</td>\n",
       "      <td>25-44 years</td>\n",
       "      <td>10.5</td>\n",
       "    </tr>\n",
       "    <tr>\n",
       "      <th>6348</th>\n",
       "      <td>Deaths per 100,000 resident population, crude</td>\n",
       "      <td>Sex, age and race and Hispanic origin (Single ...</td>\n",
       "      <td>Male: Not Hispanic or Latino: Asian: 45-64 years</td>\n",
       "      <td>2018</td>\n",
       "      <td>45-64 years</td>\n",
       "      <td>12.3</td>\n",
       "    </tr>\n",
       "    <tr>\n",
       "      <th>6349</th>\n",
       "      <td>Deaths per 100,000 resident population, crude</td>\n",
       "      <td>Sex, age and race and Hispanic origin (Single ...</td>\n",
       "      <td>Male: Not Hispanic or Latino: Asian: 65 years ...</td>\n",
       "      <td>2018</td>\n",
       "      <td>65 years and over</td>\n",
       "      <td>13.7</td>\n",
       "    </tr>\n",
       "    <tr>\n",
       "      <th>6346</th>\n",
       "      <td>Deaths per 100,000 resident population, crude</td>\n",
       "      <td>Sex, age and race and Hispanic origin (Single ...</td>\n",
       "      <td>Male: Not Hispanic or Latino: Asian: 15-24 years</td>\n",
       "      <td>2018</td>\n",
       "      <td>15-24 years</td>\n",
       "      <td>15.5</td>\n",
       "    </tr>\n",
       "  </tbody>\n",
       "</table>\n",
       "</div>"
      ],
      "text/plain": [
       "                                               UNIT  \\\n",
       "6361  Deaths per 100,000 resident population, crude   \n",
       "6359  Deaths per 100,000 resident population, crude   \n",
       "6360  Deaths per 100,000 resident population, crude   \n",
       "6358  Deaths per 100,000 resident population, crude   \n",
       "6347  Deaths per 100,000 resident population, crude   \n",
       "6348  Deaths per 100,000 resident population, crude   \n",
       "6349  Deaths per 100,000 resident population, crude   \n",
       "6346  Deaths per 100,000 resident population, crude   \n",
       "\n",
       "                                              STUB_NAME  \\\n",
       "6361  Sex, age and race and Hispanic origin (Single ...   \n",
       "6359  Sex, age and race and Hispanic origin (Single ...   \n",
       "6360  Sex, age and race and Hispanic origin (Single ...   \n",
       "6358  Sex, age and race and Hispanic origin (Single ...   \n",
       "6347  Sex, age and race and Hispanic origin (Single ...   \n",
       "6348  Sex, age and race and Hispanic origin (Single ...   \n",
       "6349  Sex, age and race and Hispanic origin (Single ...   \n",
       "6346  Sex, age and race and Hispanic origin (Single ...   \n",
       "\n",
       "                                             STUB_LABEL  YEAR  \\\n",
       "6361  Female: Not Hispanic or Latino: Asian: 65 year...  2018   \n",
       "6359  Female: Not Hispanic or Latino: Asian: 25-44 y...  2018   \n",
       "6360  Female: Not Hispanic or Latino: Asian: 45-64 y...  2018   \n",
       "6358  Female: Not Hispanic or Latino: Asian: 15-24 y...  2018   \n",
       "6347   Male: Not Hispanic or Latino: Asian: 25-44 years  2018   \n",
       "6348   Male: Not Hispanic or Latino: Asian: 45-64 years  2018   \n",
       "6349  Male: Not Hispanic or Latino: Asian: 65 years ...  2018   \n",
       "6346   Male: Not Hispanic or Latino: Asian: 15-24 years  2018   \n",
       "\n",
       "                    AGE  ESTIMATE  \n",
       "6361  65 years and over       3.6  \n",
       "6359        25-44 years       4.2  \n",
       "6360        45-64 years       4.8  \n",
       "6358        15-24 years       6.9  \n",
       "6347        25-44 years      10.5  \n",
       "6348        45-64 years      12.3  \n",
       "6349  65 years and over      13.7  \n",
       "6346        15-24 years      15.5  "
      ]
     },
     "execution_count": 31,
     "metadata": {},
     "output_type": "execute_result"
    }
   ],
   "source": [
    "dfNEW[(dfNEW.STUB_LABEL.str.contains('Not Hispanic or Latino: Asian:'))].sort_values(by=['ESTIMATE'],ascending=True)"
   ]
  },
  {
   "cell_type": "code",
   "execution_count": 32,
   "id": "01650a7e",
   "metadata": {},
   "outputs": [
    {
     "data": {
      "image/png": "[encoded data removed]",
      "text/plain": [
       "<Figure size 432x576 with 1 Axes>"
      ]
     },
     "metadata": {},
     "output_type": "display_data"
    }
   ],
   "source": [
    "F = dfNEW[(dfNEW.STUB_LABEL.str.contains('Not Hispanic or Latino: Asian:'))].sort_values(by=['ESTIMATE'],ascending=True)\n",
    "plt.figure(figsize=(6, 8))\n",
    "sns.set_style(\"dark\")\n",
    "sns.set_palette(\"husl\")\n",
    "sns.color_palette(\"rainbow\") \n",
    "sns.barplot(x=\"AGE\", y=\"ESTIMATE\",hue=\"UNIT\" ,data=F)\n",
    "plt.show()"
   ]
  },
  {
   "cell_type": "markdown",
   "id": "ee0dfac7",
   "metadata": {},
   "source": [
    "### *The above Analysis shows that Female: Not Hispanic or Latino: Asian: 65 year age of Sex, age and race and Hispanic origin (Single race) have the lowest rate of 3.6 Estimate in 2018.*"
   ]
  },
  {
   "cell_type": "markdown",
   "id": "9374ac4f",
   "metadata": {},
   "source": [
    "### SUMMARY  \n",
    "* The above analysis shows that The highest Estimate of Death rate of suicide is in STUB_LABEL (Male: White: 85 years and over)\n",
    "* The number of Highest Occurance of suicide is found among Female: Black or African American of all ages\n",
    "* The Lowest occurance of suicide is found in Female: Not Hispanic or Latino: Asian: 65 years and over and in relation to the number pf estimate   \n",
    "* The people of America shows high suicide rate more than of any other race or origin. \n",
    "* This shows that **gender,age and origin are factors responsible** for the high death rate of suicide\n"
   ]
  },
  {
   "cell_type": "code",
   "execution_count": null,
   "id": "01bcdfe7",
   "metadata": {},
   "outputs": [],
   "source": []
  }
 ],
 "metadata": {
  "kernelspec": {
   "display_name": "Python 3",
   "language": "python",
   "name": "python3"
  },
  "language_info": {
   "codemirror_mode": {
    "name": "ipython",
    "version": 3
   },
   "file_extension": ".py",
   "mimetype": "text/x-python",
   "name": "python",
   "nbconvert_exporter": "python",
   "pygments_lexer": "ipython3",
   "version": "3.7.3"
  }
 },
 "nbformat": 4,
 "nbformat_minor": 5
}
